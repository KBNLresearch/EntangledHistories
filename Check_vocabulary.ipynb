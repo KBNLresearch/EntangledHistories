{
 "cells": [
  {
   "cell_type": "code",
   "execution_count": 2,
   "metadata": {},
   "outputs": [],
   "source": [
    "import pandas as pd\n",
    "import nltk, re\n",
    "import random\n",
    "import numpy as np\n",
    "from collections import Counter"
   ]
  },
  {
   "cell_type": "markdown",
   "metadata": {},
   "source": [
    "Laad het vocabulaire, hernoem daarbij wat kolommen (en bewaar alleen kolommen die interessant zijn voor nu)"
   ]
  },
  {
   "cell_type": "code",
   "execution_count": 3,
   "metadata": {},
   "outputs": [
    {
     "data": {
      "text/html": [
       "<div>\n",
       "<style scoped>\n",
       "    .dataframe tbody tr th:only-of-type {\n",
       "        vertical-align: middle;\n",
       "    }\n",
       "\n",
       "    .dataframe tbody tr th {\n",
       "        vertical-align: top;\n",
       "    }\n",
       "\n",
       "    .dataframe thead th {\n",
       "        text-align: right;\n",
       "    }\n",
       "</style>\n",
       "<table border=\"1\" class=\"dataframe\">\n",
       "  <thead>\n",
       "    <tr style=\"text-align: right;\">\n",
       "      <th></th>\n",
       "      <th>URI</th>\n",
       "      <th>dutch</th>\n",
       "      <th>short</th>\n",
       "      <th>broader</th>\n",
       "    </tr>\n",
       "  </thead>\n",
       "  <tbody>\n",
       "    <tr>\n",
       "      <th>0</th>\n",
       "      <td>CatMPIeR:3cbdb69e-ddfb-11e9-9d36-2a2ae2dbcce4</td>\n",
       "      <td>Politieordonnanties</td>\n",
       "      <td>0Politia</td>\n",
       "      <td>CatMPIeR:nan</td>\n",
       "    </tr>\n",
       "    <tr>\n",
       "      <th>1</th>\n",
       "      <td>CatMPIeR:3cbd30ac-ddfb-11e9-9d36-2a2ae2dbcce4</td>\n",
       "      <td>Internationaal recht</td>\n",
       "      <td>0Other</td>\n",
       "      <td>CatMPIeR:nan</td>\n",
       "    </tr>\n",
       "    <tr>\n",
       "      <th>3</th>\n",
       "      <td>CatMPIeR:3cbd33ae-ddfb-11e9-9d36-2a2ae2dbcce4</td>\n",
       "      <td>Sociale orde en religie</td>\n",
       "      <td>1SO</td>\n",
       "      <td>CatMPIeR:3cbdb69e-ddfb-11e9-9d36-2a2ae2dbcce4</td>\n",
       "    </tr>\n",
       "    <tr>\n",
       "      <th>4</th>\n",
       "      <td>CatMPIeR:3cbd352a-ddfb-11e9-9d36-2a2ae2dbcce4</td>\n",
       "      <td>Religieuze aangelegenheden</td>\n",
       "      <td>1SO1</td>\n",
       "      <td>CatMPIeR:3cbd33ae-ddfb-11e9-9d36-2a2ae2dbcce4</td>\n",
       "    </tr>\n",
       "    <tr>\n",
       "      <th>5</th>\n",
       "      <td>CatMPIeR:3cbd380e-ddfb-11e9-9d36-2a2ae2dbcce4</td>\n",
       "      <td>Bedelmonniken</td>\n",
       "      <td>1SO1A</td>\n",
       "      <td>CatMPIeR:3cbd352a-ddfb-11e9-9d36-2a2ae2dbcce4</td>\n",
       "    </tr>\n",
       "  </tbody>\n",
       "</table>\n",
       "</div>"
      ],
      "text/plain": [
       "                                             URI                       dutch  \\\n",
       "0  CatMPIeR:3cbdb69e-ddfb-11e9-9d36-2a2ae2dbcce4         Politieordonnanties   \n",
       "1  CatMPIeR:3cbd30ac-ddfb-11e9-9d36-2a2ae2dbcce4        Internationaal recht   \n",
       "3  CatMPIeR:3cbd33ae-ddfb-11e9-9d36-2a2ae2dbcce4     Sociale orde en religie   \n",
       "4  CatMPIeR:3cbd352a-ddfb-11e9-9d36-2a2ae2dbcce4  Religieuze aangelegenheden   \n",
       "5  CatMPIeR:3cbd380e-ddfb-11e9-9d36-2a2ae2dbcce4               Bedelmonniken   \n",
       "\n",
       "      short                                        broader  \n",
       "0  0Politia                                   CatMPIeR:nan  \n",
       "1    0Other                                   CatMPIeR:nan  \n",
       "3       1SO  CatMPIeR:3cbdb69e-ddfb-11e9-9d36-2a2ae2dbcce4  \n",
       "4      1SO1  CatMPIeR:3cbd33ae-ddfb-11e9-9d36-2a2ae2dbcce4  \n",
       "5     1SO1A  CatMPIeR:3cbd352a-ddfb-11e9-9d36-2a2ae2dbcce4  "
      ]
     },
     "execution_count": 3,
     "metadata": {},
     "output_type": "execute_result"
    }
   ],
   "source": [
    "cols={'skos:altLabel@en':'short','URI':'URI', 'skos:broader(lookupColumn=\"URI\")':'broader', 'skos:prefLabel@nl':'dutch'}\n",
    "\n",
    "voc = pd.read_csv('skos_catmpier_DuEnNL_flat.csv',delimiter=';', usecols=cols.keys(), skip_blank_lines=True)\n",
    "voc.rename(columns=cols, inplace=True)\n",
    "voc.dropna(subset=['URI'], inplace=True)\n",
    "voc['broader']=voc['broader'].apply(lambda x: 'CatMPIeR:'+str(x))\n",
    "voc.head()\n"
   ]
  },
  {
   "cell_type": "markdown",
   "metadata": {},
   "source": [
    "Hieronder: roep alle entries in het vocabulaire op die $uri$ als broader term hebben"
   ]
  },
  {
   "cell_type": "code",
   "execution_count": 4,
   "metadata": {},
   "outputs": [
    {
     "data": {
      "text/html": [
       "<div>\n",
       "<style scoped>\n",
       "    .dataframe tbody tr th:only-of-type {\n",
       "        vertical-align: middle;\n",
       "    }\n",
       "\n",
       "    .dataframe tbody tr th {\n",
       "        vertical-align: top;\n",
       "    }\n",
       "\n",
       "    .dataframe thead th {\n",
       "        text-align: right;\n",
       "    }\n",
       "</style>\n",
       "<table border=\"1\" class=\"dataframe\">\n",
       "  <thead>\n",
       "    <tr style=\"text-align: right;\">\n",
       "      <th></th>\n",
       "      <th>URI</th>\n",
       "      <th>dutch</th>\n",
       "      <th>short</th>\n",
       "      <th>broader</th>\n",
       "    </tr>\n",
       "  </thead>\n",
       "  <tbody>\n",
       "    <tr>\n",
       "      <th>3</th>\n",
       "      <td>CatMPIeR:3cbd33ae-ddfb-11e9-9d36-2a2ae2dbcce4</td>\n",
       "      <td>Sociale orde en religie</td>\n",
       "      <td>1SO</td>\n",
       "      <td>CatMPIeR:3cbdb69e-ddfb-11e9-9d36-2a2ae2dbcce4</td>\n",
       "    </tr>\n",
       "    <tr>\n",
       "      <th>466</th>\n",
       "      <td>CatMPIeR:50f309ca-ddfb-11e9-8a34-2a2ae2dbcce4</td>\n",
       "      <td>Publieke veiligheid en orde</td>\n",
       "      <td>2PSO</td>\n",
       "      <td>CatMPIeR:3cbdb69e-ddfb-11e9-9d36-2a2ae2dbcce4</td>\n",
       "    </tr>\n",
       "    <tr>\n",
       "      <th>712</th>\n",
       "      <td>CatMPIeR:50f4a1b8-ddfb-11e9-8a34-2a2ae2dbcce4</td>\n",
       "      <td>Sociale diensten. gezondheidszorg. Onderwijs. ...</td>\n",
       "      <td>3PRH</td>\n",
       "      <td>CatMPIeR:3cbdb69e-ddfb-11e9-9d36-2a2ae2dbcce4</td>\n",
       "    </tr>\n",
       "    <tr>\n",
       "      <th>983</th>\n",
       "      <td>CatMPIeR:d5706b52-ddfb-11e9-8a34-2a2ae2dbcce4</td>\n",
       "      <td>Economische orde. Werk- en professionele voors...</td>\n",
       "      <td>4ESP</td>\n",
       "      <td>CatMPIeR:3cbdb69e-ddfb-11e9-9d36-2a2ae2dbcce4</td>\n",
       "    </tr>\n",
       "    <tr>\n",
       "      <th>1655</th>\n",
       "      <td>CatMPIeR:e8b0ca22-ddfb-11e9-8a34-2a2ae2dbcce4</td>\n",
       "      <td>Bodem-inrichting</td>\n",
       "      <td>5LDP</td>\n",
       "      <td>CatMPIeR:3cbdb69e-ddfb-11e9-9d36-2a2ae2dbcce4</td>\n",
       "    </tr>\n",
       "  </tbody>\n",
       "</table>\n",
       "</div>"
      ],
      "text/plain": [
       "                                                URI  \\\n",
       "3     CatMPIeR:3cbd33ae-ddfb-11e9-9d36-2a2ae2dbcce4   \n",
       "466   CatMPIeR:50f309ca-ddfb-11e9-8a34-2a2ae2dbcce4   \n",
       "712   CatMPIeR:50f4a1b8-ddfb-11e9-8a34-2a2ae2dbcce4   \n",
       "983   CatMPIeR:d5706b52-ddfb-11e9-8a34-2a2ae2dbcce4   \n",
       "1655  CatMPIeR:e8b0ca22-ddfb-11e9-8a34-2a2ae2dbcce4   \n",
       "\n",
       "                                                  dutch short  \\\n",
       "3                               Sociale orde en religie   1SO   \n",
       "466                         Publieke veiligheid en orde  2PSO   \n",
       "712   Sociale diensten. gezondheidszorg. Onderwijs. ...  3PRH   \n",
       "983   Economische orde. Werk- en professionele voors...  4ESP   \n",
       "1655                                   Bodem-inrichting  5LDP   \n",
       "\n",
       "                                            broader  \n",
       "3     CatMPIeR:3cbdb69e-ddfb-11e9-9d36-2a2ae2dbcce4  \n",
       "466   CatMPIeR:3cbdb69e-ddfb-11e9-9d36-2a2ae2dbcce4  \n",
       "712   CatMPIeR:3cbdb69e-ddfb-11e9-9d36-2a2ae2dbcce4  \n",
       "983   CatMPIeR:3cbdb69e-ddfb-11e9-9d36-2a2ae2dbcce4  \n",
       "1655  CatMPIeR:3cbdb69e-ddfb-11e9-9d36-2a2ae2dbcce4  "
      ]
     },
     "execution_count": 4,
     "metadata": {},
     "output_type": "execute_result"
    }
   ],
   "source": [
    "uri = 'CatMPIeR:3cbdb69e-ddfb-11e9-9d36-2a2ae2dbcce4'\n",
    "voc.loc[voc.broader == uri]"
   ]
  },
  {
   "cell_type": "code",
   "execution_count": null,
   "metadata": {},
   "outputs": [],
   "source": []
  },
  {
   "cell_type": "code",
   "execution_count": null,
   "metadata": {},
   "outputs": [],
   "source": []
  }
 ],
 "metadata": {
  "kernelspec": {
   "display_name": "Python 3",
   "language": "python",
   "name": "python3"
  },
  "language_info": {
   "codemirror_mode": {
    "name": "ipython",
    "version": 3
   },
   "file_extension": ".py",
   "mimetype": "text/x-python",
   "name": "python",
   "nbconvert_exporter": "python",
   "pygments_lexer": "ipython3",
   "version": "3.6.8"
  }
 },
 "nbformat": 4,
 "nbformat_minor": 2
}
